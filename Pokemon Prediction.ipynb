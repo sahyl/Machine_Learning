{
 "cells": [
  {
   "cell_type": "code",
   "execution_count": 1,
   "id": "88791596",
   "metadata": {},
   "outputs": [],
   "source": [
    "import tensorflow as tf"
   ]
  },
  {
   "cell_type": "code",
   "execution_count": 3,
   "id": "835a724e",
   "metadata": {},
   "outputs": [],
   "source": [
    "from keras.preprocessing.image import ImageDataGenerator"
   ]
  },
  {
   "cell_type": "markdown",
   "id": "6c0a25c0",
   "metadata": {},
   "source": [
    "## data preprocessing\n",
    "### preprocessing the training set"
   ]
  },
  {
   "cell_type": "code",
   "execution_count": 7,
   "id": "143aee3f",
   "metadata": {},
   "outputs": [
    {
     "name": "stdout",
     "output_type": "stream",
     "text": [
      "Found 50 images belonging to 2 classes.\n"
     ]
    }
   ],
   "source": [
    "traindatagen =ImageDataGenerator(rescale = 1./225,shear_range = 0.2 , zoom_range = 0.2, horizontal_flip = True)\n",
    "trainingset = traindatagen.flow_from_directory('datasets/pokemon/pika_pika/training_set',target_size =(64,64),batch_size = 32,class_mode ='binary')"
   ]
  },
  {
   "cell_type": "markdown",
   "id": "7f967d33",
   "metadata": {},
   "source": [
    "### preprocessing the test set"
   ]
  },
  {
   "cell_type": "code",
   "execution_count": 19,
   "id": "9feedc8d",
   "metadata": {},
   "outputs": [
    {
     "name": "stdout",
     "output_type": "stream",
     "text": [
      "Found 10 images belonging to 2 classes.\n"
     ]
    }
   ],
   "source": [
    "testdatagen =ImageDataGenerator(rescale = 1./225,shear_range = 0.2 , zoom_range = 0.2, horizontal_flip = True)\n",
    "testset = testdatagen.flow_from_directory('datasets/pokemon/pika_pika/test_set',target_size =(64,64),batch_size = 32,class_mode ='binary')"
   ]
  },
  {
   "cell_type": "markdown",
   "id": "b8943e1c",
   "metadata": {},
   "source": [
    "## building the CNN\n",
    "### initialising the CNN"
   ]
  },
  {
   "cell_type": "code",
   "execution_count": 9,
   "id": "bcb1043d",
   "metadata": {},
   "outputs": [],
   "source": [
    "cnn =tf.keras.models.Sequential()"
   ]
  },
  {
   "cell_type": "markdown",
   "id": "09a3d5e3",
   "metadata": {},
   "source": [
    "### convolution "
   ]
  },
  {
   "cell_type": "code",
   "execution_count": 10,
   "id": "67271119",
   "metadata": {},
   "outputs": [],
   "source": [
    "cnn.add(tf.keras.layers.Conv2D(filters = 32, kernel_size = 3, activation = 'relu',input_shape=[64,64,3]))"
   ]
  },
  {
   "cell_type": "markdown",
   "id": "d574de32",
   "metadata": {},
   "source": [
    "### pooling"
   ]
  },
  {
   "cell_type": "code",
   "execution_count": 11,
   "id": "215a6faa",
   "metadata": {},
   "outputs": [],
   "source": [
    "cnn.add(tf.keras.layers.MaxPool2D(pool_size =2,strides = 2))"
   ]
  },
  {
   "cell_type": "markdown",
   "id": "5227bf19",
   "metadata": {},
   "source": [
    "### adding  second convolution layer"
   ]
  },
  {
   "cell_type": "code",
   "execution_count": 12,
   "id": "6d868ca5",
   "metadata": {},
   "outputs": [],
   "source": [
    "cnn.add(tf.keras.layers.Conv2D(filters = 32 , kernel_size =3 ,activation = 'relu', input_shape =[64,64,3]))\n",
    "cnn.add(tf.keras.layers.MaxPool2D(pool_size =2 ,strides = 2))"
   ]
  },
  {
   "cell_type": "markdown",
   "id": "794b0154",
   "metadata": {},
   "source": [
    "### flatenning"
   ]
  },
  {
   "cell_type": "code",
   "execution_count": 13,
   "id": "9bae82d5",
   "metadata": {},
   "outputs": [],
   "source": [
    "cnn.add(tf.keras.layers.Flatten())"
   ]
  },
  {
   "cell_type": "markdown",
   "id": "4743d60d",
   "metadata": {},
   "source": [
    "### full connection"
   ]
  },
  {
   "cell_type": "code",
   "execution_count": 14,
   "id": "3cdbf00e",
   "metadata": {},
   "outputs": [],
   "source": [
    "cnn.add(tf.keras.layers.Dense(units=128,activation = 'relu'))"
   ]
  },
  {
   "cell_type": "markdown",
   "id": "e14a1e16",
   "metadata": {},
   "source": [
    "### output layer"
   ]
  },
  {
   "cell_type": "code",
   "execution_count": 15,
   "id": "1e007d39",
   "metadata": {},
   "outputs": [],
   "source": [
    "cnn.add(tf.keras.layers.Dense(units=1,activation = 'sigmoid'))"
   ]
  },
  {
   "cell_type": "markdown",
   "id": "ef317c54",
   "metadata": {},
   "source": [
    "## training the CNN \n",
    "### compiling the Cnn"
   ]
  },
  {
   "cell_type": "code",
   "execution_count": 16,
   "id": "f1b6cd79",
   "metadata": {},
   "outputs": [],
   "source": [
    "cnn.compile(optimizer = 'adam',loss = 'binary_crossentropy',metrics = ['accuracy'])"
   ]
  },
  {
   "cell_type": "markdown",
   "id": "595a78a4",
   "metadata": {},
   "source": [
    "### training the CNN on the traing set and evaluating it on the test set"
   ]
  },
  {
   "cell_type": "code",
   "execution_count": 20,
   "id": "ff4e2bd9",
   "metadata": {},
   "outputs": [
    {
     "name": "stdout",
     "output_type": "stream",
     "text": [
      "Epoch 1/25\n",
      "2/2 [==============================] - 4s 2s/step - loss: 0.7898 - accuracy: 0.5200 - val_loss: 1.1494 - val_accuracy: 0.5000\n",
      "Epoch 2/25\n",
      "2/2 [==============================] - 1s 926ms/step - loss: 0.7974 - accuracy: 0.5200 - val_loss: 0.6999 - val_accuracy: 0.5000\n",
      "Epoch 3/25\n",
      "2/2 [==============================] - 1s 778ms/step - loss: 0.5457 - accuracy: 0.8000 - val_loss: 0.6299 - val_accuracy: 0.5000\n",
      "Epoch 4/25\n",
      "2/2 [==============================] - 1s 564ms/step - loss: 0.5869 - accuracy: 0.5600 - val_loss: 0.6498 - val_accuracy: 0.5000\n",
      "Epoch 5/25\n",
      "2/2 [==============================] - 1s 461ms/step - loss: 0.5244 - accuracy: 0.6800 - val_loss: 0.6414 - val_accuracy: 0.7000\n",
      "Epoch 6/25\n",
      "2/2 [==============================] - 1s 869ms/step - loss: 0.4409 - accuracy: 0.9200 - val_loss: 0.6844 - val_accuracy: 0.6000\n",
      "Epoch 7/25\n",
      "2/2 [==============================] - 1s 685ms/step - loss: 0.3755 - accuracy: 0.9000 - val_loss: 0.5772 - val_accuracy: 0.6000\n",
      "Epoch 8/25\n",
      "2/2 [==============================] - 1s 609ms/step - loss: 0.2729 - accuracy: 0.9800 - val_loss: 0.5106 - val_accuracy: 0.8000\n",
      "Epoch 9/25\n",
      "2/2 [==============================] - 1s 528ms/step - loss: 0.2120 - accuracy: 0.9600 - val_loss: 0.5577 - val_accuracy: 0.8000\n",
      "Epoch 10/25\n",
      "2/2 [==============================] - 1s 573ms/step - loss: 0.1658 - accuracy: 0.9400 - val_loss: 0.4604 - val_accuracy: 0.8000\n",
      "Epoch 11/25\n",
      "2/2 [==============================] - 1s 510ms/step - loss: 0.1072 - accuracy: 0.9600 - val_loss: 0.6003 - val_accuracy: 0.8000\n",
      "Epoch 12/25\n",
      "2/2 [==============================] - 1s 824ms/step - loss: 0.0910 - accuracy: 0.9800 - val_loss: 0.3908 - val_accuracy: 0.8000\n",
      "Epoch 13/25\n",
      "2/2 [==============================] - 1s 624ms/step - loss: 0.1053 - accuracy: 0.9600 - val_loss: 0.4677 - val_accuracy: 0.9000\n",
      "Epoch 14/25\n",
      "2/2 [==============================] - 1s 949ms/step - loss: 0.0625 - accuracy: 0.9600 - val_loss: 0.2528 - val_accuracy: 0.9000\n",
      "Epoch 15/25\n",
      "2/2 [==============================] - 1s 943ms/step - loss: 0.0897 - accuracy: 0.9400 - val_loss: 0.7504 - val_accuracy: 0.8000\n",
      "Epoch 16/25\n",
      "2/2 [==============================] - 1s 637ms/step - loss: 0.0587 - accuracy: 0.9600 - val_loss: 0.4384 - val_accuracy: 0.9000\n",
      "Epoch 17/25\n",
      "2/2 [==============================] - 1s 741ms/step - loss: 0.0248 - accuracy: 1.0000 - val_loss: 0.3748 - val_accuracy: 0.8000\n",
      "Epoch 18/25\n",
      "2/2 [==============================] - 1s 480ms/step - loss: 0.0471 - accuracy: 1.0000 - val_loss: 0.5069 - val_accuracy: 0.9000\n",
      "Epoch 19/25\n",
      "2/2 [==============================] - 1s 728ms/step - loss: 0.0229 - accuracy: 1.0000 - val_loss: 0.6650 - val_accuracy: 0.9000\n",
      "Epoch 20/25\n",
      "2/2 [==============================] - 1s 413ms/step - loss: 0.0226 - accuracy: 1.0000 - val_loss: 0.4320 - val_accuracy: 0.9000\n",
      "Epoch 21/25\n",
      "2/2 [==============================] - 1s 810ms/step - loss: 0.0189 - accuracy: 1.0000 - val_loss: 0.3974 - val_accuracy: 0.9000\n",
      "Epoch 22/25\n",
      "2/2 [==============================] - 1s 703ms/step - loss: 0.0136 - accuracy: 1.0000 - val_loss: 0.2907 - val_accuracy: 0.9000\n",
      "Epoch 23/25\n",
      "2/2 [==============================] - 1s 745ms/step - loss: 0.0118 - accuracy: 1.0000 - val_loss: 0.3991 - val_accuracy: 0.9000\n",
      "Epoch 24/25\n",
      "2/2 [==============================] - 1s 459ms/step - loss: 0.0273 - accuracy: 0.9800 - val_loss: 0.5542 - val_accuracy: 0.9000\n",
      "Epoch 25/25\n",
      "2/2 [==============================] - 1s 565ms/step - loss: 0.0097 - accuracy: 1.0000 - val_loss: 0.9184 - val_accuracy: 0.8000\n"
     ]
    },
    {
     "data": {
      "text/plain": [
       "<keras.callbacks.History at 0x2342e4f82b0>"
      ]
     },
     "execution_count": 20,
     "metadata": {},
     "output_type": "execute_result"
    }
   ],
   "source": [
    "cnn.fit(x= trainingset, validation_data = testset, epochs = 25)"
   ]
  },
  {
   "cell_type": "markdown",
   "id": "4f51fbed",
   "metadata": {},
   "source": [
    "### making predictions"
   ]
  },
  {
   "cell_type": "code",
   "execution_count": 56,
   "id": "ebd0de94",
   "metadata": {},
   "outputs": [
    {
     "name": "stdout",
     "output_type": "stream",
     "text": [
      "1/1 [==============================] - 0s 24ms/step\n",
      "{'name': 'Raichu', 'type': 'Electric', 'height': '79 cm', 'weight': '30 kg'}\n"
     ]
    }
   ],
   "source": [
    "import numpy as np\n",
    "import keras.utils as image\n",
    "\n",
    "# Load the test image\n",
    "test_image = image.load_img('datasets/pokemon/pika_pika/single_prediction/check_3.jpg', target_size = (64, 64))\n",
    "test_image = image.img_to_array(test_image)\n",
    "test_image = np.expand_dims(test_image, axis = 0)\n",
    "\n",
    "# Make the prediction\n",
    "result = cnn.predict(test_image)\n",
    "\n",
    "# Define the dictionary of attributes\n",
    "pikachu_attributes = {'name': 'Pikachu', 'type': 'Electric', 'height': '40 cm', 'weight': '6 kg'}\n",
    "raichu_attributes = {'name': 'Raichu', 'type': 'Electric', 'height': '79 cm', 'weight': '30 kg'}\n",
    "pokemon_attributes = {1: pikachu_attributes, 0: raichu_attributes}\n",
    "\n",
    "# Check the binary result generated is equal to the key of the dictionary\n",
    "if result[0][0] == 1:\n",
    "  prediction = 'pika'\n",
    "else:\n",
    "  prediction = 'rai'\n",
    "\n",
    "# Print the attributes of the predicted pokemon\n",
    "print(pokemon_attributes[result[0][0]])\n"
   ]
  },
  {
   "cell_type": "code",
   "execution_count": 54,
   "id": "7b4985a8",
   "metadata": {},
   "outputs": [
    {
     "name": "stdout",
     "output_type": "stream",
     "text": [
      "pika\n"
     ]
    }
   ],
   "source": [
    "print(prediction)"
   ]
  },
  {
   "cell_type": "code",
   "execution_count": 55,
   "id": "1940615c",
   "metadata": {},
   "outputs": [
    {
     "name": "stdout",
     "output_type": "stream",
     "text": [
      "[[1.]]\n"
     ]
    }
   ],
   "source": [
    "print(result)"
   ]
  },
  {
   "cell_type": "markdown",
   "id": "3554f94b",
   "metadata": {},
   "source": [
    "# the end"
   ]
  }
 ],
 "metadata": {
  "kernelspec": {
   "display_name": "Python 3 (ipykernel)",
   "language": "python",
   "name": "python3"
  },
  "language_info": {
   "codemirror_mode": {
    "name": "ipython",
    "version": 3
   },
   "file_extension": ".py",
   "mimetype": "text/x-python",
   "name": "python",
   "nbconvert_exporter": "python",
   "pygments_lexer": "ipython3",
   "version": "3.10.9"
  }
 },
 "nbformat": 4,
 "nbformat_minor": 5
}
