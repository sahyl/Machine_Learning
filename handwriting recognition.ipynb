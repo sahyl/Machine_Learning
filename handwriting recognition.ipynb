{
 "cells": [
  {
   "cell_type": "code",
   "execution_count": 54,
   "id": "6f058192",
   "metadata": {},
   "outputs": [],
   "source": [
    "import tensorflow as tf\n",
    "from keras.preprocessing.image import ImageDataGenerator\n"
   ]
  },
  {
   "cell_type": "code",
   "execution_count": 55,
   "id": "d304e22d",
   "metadata": {},
   "outputs": [],
   "source": [
    "import matplotlib.pyplot as plt\n",
    "import pandas as pd\n",
    "import numpy as np\n",
    "import tensorflow.keras.utils as tku\n"
   ]
  },
  {
   "cell_type": "code",
   "execution_count": 56,
   "id": "8e09f5e5",
   "metadata": {},
   "outputs": [
    {
     "name": "stdout",
     "output_type": "stream",
     "text": [
      "Found 37340 images belonging to 10 classes.\n"
     ]
    }
   ],
   "source": [
    "train_datagen = ImageDataGenerator(rescale = 1./255,shear_range =0.2, zoom_range = 0.2 , horizontal_flip = True)\n",
    "training_set = train_datagen.flow_from_directory('datasets/MNIST/training_set',target_size  = (28,28), batch_size = 32, class_mode = 'categorical')"
   ]
  },
  {
   "cell_type": "code",
   "execution_count": 57,
   "id": "b0b847e8",
   "metadata": {},
   "outputs": [
    {
     "name": "stdout",
     "output_type": "stream",
     "text": [
      "Found 4660 images belonging to 10 classes.\n"
     ]
    }
   ],
   "source": [
    "test_datagen = ImageDataGenerator(rescale = 1./255,shear_range =0.2, zoom_range = 0.2 , horizontal_flip = True)\n",
    "testing_set = test_datagen.flow_from_directory('datasets/MNIST/test_set',target_size  = (28,28), batch_size = 32, class_mode = 'categorical')"
   ]
  },
  {
   "cell_type": "code",
   "execution_count": 58,
   "id": "5b2d6fd6",
   "metadata": {},
   "outputs": [],
   "source": [
    " # cnn model \n",
    "cnn = tf.keras.models.Sequential()\n"
   ]
  },
  {
   "cell_type": "code",
   "execution_count": 59,
   "id": "98fadae6",
   "metadata": {},
   "outputs": [],
   "source": [
    "cnn.add(tf.keras.layers.Conv2D(filters = 32, kernel_size = 3, activation = 'relu',input_shape = [28,28,3]))"
   ]
  },
  {
   "cell_type": "code",
   "execution_count": 60,
   "id": "c44f7403",
   "metadata": {},
   "outputs": [],
   "source": [
    "cnn.add(tf.keras.layers.MaxPool2D(pool_size =2 ,strides = 2))"
   ]
  },
  {
   "cell_type": "code",
   "execution_count": 61,
   "id": "9e266490",
   "metadata": {},
   "outputs": [],
   "source": [
    "cnn.add(tf.keras.layers.Conv2D(filters = 32, kernel_size = 3, activation = 'relu'))\n",
    "cnn.add(tf.keras.layers.MaxPool2D(pool_size = 2, strides =2))"
   ]
  },
  {
   "cell_type": "code",
   "execution_count": 62,
   "id": "230981a2",
   "metadata": {},
   "outputs": [],
   "source": [
    "cnn.add(tf.keras.layers.Flatten())"
   ]
  },
  {
   "cell_type": "code",
   "execution_count": 63,
   "id": "8b6c8d52",
   "metadata": {},
   "outputs": [],
   "source": [
    "cnn.add(tf.keras.layers.Dense(units = 64 , activation = 'relu'))"
   ]
  },
  {
   "cell_type": "code",
   "execution_count": 64,
   "id": "31c032dc",
   "metadata": {},
   "outputs": [],
   "source": [
    "cnn.add(tf.keras.layers.Dense(units = 10 , activation = 'softmax'))"
   ]
  },
  {
   "cell_type": "code",
   "execution_count": 65,
   "id": "5c72bb6c",
   "metadata": {},
   "outputs": [],
   "source": [
    "cnn.compile(optimizer = 'adam',loss = 'categorical_crossentropy',metrics = ['accuracy'])"
   ]
  },
  {
   "cell_type": "code",
   "execution_count": 66,
   "id": "8e438c3d",
   "metadata": {},
   "outputs": [
    {
     "name": "stdout",
     "output_type": "stream",
     "text": [
      "Epoch 1/3\n",
      "1167/1167 [==============================] - 427s 365ms/step - loss: 0.3941 - accuracy: 0.8734 - val_loss: 0.1964 - val_accuracy: 0.9408\n",
      "Epoch 2/3\n",
      "1167/1167 [==============================] - 108s 92ms/step - loss: 0.1517 - accuracy: 0.9526 - val_loss: 0.1097 - val_accuracy: 0.9635\n",
      "Epoch 3/3\n",
      "1167/1167 [==============================] - 81s 69ms/step - loss: 0.1115 - accuracy: 0.9650 - val_loss: 0.0955 - val_accuracy: 0.9697\n"
     ]
    }
   ],
   "source": [
    "trained_data = cnn.fit(x = training_set , validation_data = testing_set,epochs =3)"
   ]
  },
  {
   "cell_type": "code",
   "execution_count": 74,
   "id": "c16f2399",
   "metadata": {},
   "outputs": [
    {
     "name": "stdout",
     "output_type": "stream",
     "text": [
      "1/1 [==============================] - 0s 45ms/step\n"
     ]
    }
   ],
   "source": [
    "\n",
    "import keras.utils as image\n",
    "\n",
    "test_image = image.load_img('datasets/MNIST/single_prediction/img_26.jpg',target_size =(28,28))\n",
    "test_image = image.img_to_array(test_image)\n",
    "test_image = np.expand_dims(test_image, axis =0)\n",
    "result =(cnn.predict(test_image))\n",
    "training_set.class_indices\n",
    "if result[0][0] ==1:\n",
    "    presiction ='zero'\n",
    "elif result[0][1] ==1:\n",
    "    presiction ='one'\n",
    "elif result[0][2] ==1:\n",
    "    presiction ='two'\n",
    "elif result[0][3] ==1:\n",
    "    presiction ='three'\n",
    "elif result[0][4] ==1:\n",
    "    presiction ='four'\n",
    "elif result[0][5] ==1:\n",
    "    presiction ='five'\n",
    "elif result[0][6] ==1:\n",
    "    presiction ='six'\n",
    "elif result[0][7] ==1:\n",
    "    presiction ='seven'\n",
    "elif result[0][8] ==1:\n",
    "    presiction ='eight'\n",
    "else:\n",
    "    presiction = 'nine'"
   ]
  },
  {
   "cell_type": "code",
   "execution_count": 75,
   "id": "697850ed",
   "metadata": {},
   "outputs": [
    {
     "name": "stdout",
     "output_type": "stream",
     "text": [
      "[[0. 0. 0. 0. 1. 0. 0. 0. 0. 0.]]\n"
     ]
    }
   ],
   "source": [
    "print(result)\n"
   ]
  },
  {
   "cell_type": "code",
   "execution_count": 77,
   "id": "7bc5e6f7",
   "metadata": {},
   "outputs": [
    {
     "name": "stdout",
     "output_type": "stream",
     "text": [
      "four\n"
     ]
    }
   ],
   "source": [
    "print(presiction)"
   ]
  },
  {
   "cell_type": "code",
   "execution_count": null,
   "id": "60fcb9a1",
   "metadata": {},
   "outputs": [],
   "source": []
  }
 ],
 "metadata": {
  "kernelspec": {
   "display_name": "Python 3 (ipykernel)",
   "language": "python",
   "name": "python3"
  },
  "language_info": {
   "codemirror_mode": {
    "name": "ipython",
    "version": 3
   },
   "file_extension": ".py",
   "mimetype": "text/x-python",
   "name": "python",
   "nbconvert_exporter": "python",
   "pygments_lexer": "ipython3",
   "version": "3.10.9"
  }
 },
 "nbformat": 4,
 "nbformat_minor": 5
}
