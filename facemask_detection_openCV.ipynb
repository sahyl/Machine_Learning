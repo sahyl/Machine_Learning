{
 "cells": [
  {
   "cell_type": "code",
   "execution_count": 20,
   "id": "7ee1d200",
   "metadata": {},
   "outputs": [],
   "source": [
    "from tensorflow.keras.applications.mobilenet_v2 import preprocess_input\n",
    "from tensorflow.keras.preprocessing.image import img_to_array\n",
    "from tensorflow.keras.models import load_model\n",
    "from imutils.video import VideoStream\n",
    "import numpy as np\n",
    "import imutils\n",
    "import time\n",
    "import cv2\n",
    "import os\n"
   ]
  },
  {
   "cell_type": "code",
   "execution_count": 21,
   "id": "c105336c",
   "metadata": {},
   "outputs": [],
   "source": [
    "def detect_and_predict_mask(frame,faceNet,maskNet):\n",
    "    # grab dimensions\n",
    "    (h,w) = frame.shape[:2]\n",
    "    # blob construction\n",
    "    blob = cv2.dnn.blobFromImage(frame,1.0,(244,244),(104.0,177.0,123.0))\n",
    "    \n",
    "    # pass the blob thru network and obtain the face detections\n",
    "    faceNet.setInput(blob)\n",
    "    detections = faceNet.forward()\n",
    "    print(detections.shape)\n",
    "    \n",
    "    faces =[]\n",
    "    preds =[]\n",
    "    locs =[]\n",
    "    \n",
    "    # loop over the detections\n",
    "    for i in range(0,detections.shape[2]):\n",
    "        confidence = detections[0,0,i,2]\n",
    "        \n",
    "        # filter weak detections\n",
    "        if confidence > 0.5:\n",
    "                box = detections[0,0,1,3:7] * np.array([w,h,w,h])\n",
    "                (startx,starty,endx,endy) = box.astype('int')\n",
    "                \n",
    "                (startx,starty ) = (max(0,startx), max(0,starty))\n",
    "                (endx,endy) = (min(w-1,endx),min(h-1,endy))\n",
    "                \n",
    "                \n",
    "                \n",
    "                \n",
    "                face = frame[startx:endx ,starty:endy ]\n",
    "                face = cv2.cvtColor(face,cv2.COLOR_BGR2RGB)\n",
    "                face = cv2.resize(face,(244,244))\n",
    "                face = img_to_array(face)\n",
    "                face = preprocess_input(face)\n",
    "                \n",
    "                \n",
    "                \n",
    "                face.append(face)\n",
    "                locs.append((startx,starty,endx,endy))\n",
    "    # only predict if one face is seen\n",
    "    if len(faces)> 0:\n",
    "        faces = np.array(faces,dtype = 'float32')\n",
    "        preds = maskNet.predict(faces ,batch_size =32)\n",
    "        \n",
    "    return (locs,preds)\n",
    "                \n",
    "    \n",
    "    "
   ]
  },
  {
   "cell_type": "code",
   "execution_count": 22,
   "id": "0180fe23",
   "metadata": {},
   "outputs": [],
   "source": [
    "# load our face detection model from disk\n",
    "facepath  = 'face_detector/deploy.prototxt'\n",
    "weightpath = 'face_detector/res10_300x300_ssd_iter_140000.caffemodel'\n",
    "faceNet = cv2.dnn.readNet(facepath,weightpath)"
   ]
  },
  {
   "cell_type": "code",
   "execution_count": 23,
   "id": "5776e496",
   "metadata": {},
   "outputs": [],
   "source": [
    "# load face mask model from disk\n",
    "maskNet = load_model('mask_detector.model')\n"
   ]
  },
  {
   "cell_type": "code",
   "execution_count": 24,
   "id": "ff920b90",
   "metadata": {},
   "outputs": [
    {
     "name": "stdout",
     "output_type": "stream",
     "text": [
      "[info] starting video stream...\n",
      "(1, 1, 200, 7)\n"
     ]
    },
    {
     "ename": "error",
     "evalue": "OpenCV(4.7.0) D:\\a\\opencv-python\\opencv-python\\opencv\\modules\\imgproc\\src\\color.cpp:182: error: (-215:Assertion failed) !_src.empty() in function 'cv::cvtColor'\n",
     "output_type": "error",
     "traceback": [
      "\u001b[1;31m---------------------------------------------------------------------------\u001b[0m",
      "\u001b[1;31merror\u001b[0m                                     Traceback (most recent call last)",
      "Cell \u001b[1;32mIn[24], line 14\u001b[0m\n\u001b[0;32m     11\u001b[0m frame \u001b[38;5;241m=\u001b[39m imutils\u001b[38;5;241m.\u001b[39mresize(frame , width \u001b[38;5;241m=\u001b[39m \u001b[38;5;241m400\u001b[39m)\n\u001b[0;32m     13\u001b[0m \u001b[38;5;66;03m# detect face in frame and determine if they are wearing a mask or not\u001b[39;00m\n\u001b[1;32m---> 14\u001b[0m (locs,pred) \u001b[38;5;241m=\u001b[39m \u001b[43mdetect_and_predict_mask\u001b[49m\u001b[43m(\u001b[49m\u001b[43mframe\u001b[49m\u001b[43m,\u001b[49m\u001b[43mfaceNet\u001b[49m\u001b[43m,\u001b[49m\u001b[43mmaskNet\u001b[49m\u001b[43m)\u001b[49m\n\u001b[0;32m     16\u001b[0m \u001b[38;5;66;03m# loop over the detected face locations\u001b[39;00m\n\u001b[0;32m     18\u001b[0m \u001b[38;5;28;01mfor\u001b[39;00m (box,pred ) \u001b[38;5;129;01min\u001b[39;00m \u001b[38;5;28mzip\u001b[39m(locs,pred):\n\u001b[0;32m     19\u001b[0m     \u001b[38;5;66;03m# unpack bounding box and predictions\u001b[39;00m\n",
      "Cell \u001b[1;32mIn[21], line 32\u001b[0m, in \u001b[0;36mdetect_and_predict_mask\u001b[1;34m(frame, faceNet, maskNet)\u001b[0m\n\u001b[0;32m     26\u001b[0m (endx,endy) \u001b[38;5;241m=\u001b[39m (\u001b[38;5;28mmin\u001b[39m(w\u001b[38;5;241m-\u001b[39m\u001b[38;5;241m1\u001b[39m,endx),\u001b[38;5;28mmin\u001b[39m(h\u001b[38;5;241m-\u001b[39m\u001b[38;5;241m1\u001b[39m,endy))\n\u001b[0;32m     31\u001b[0m face \u001b[38;5;241m=\u001b[39m frame[startx:endx ,starty:endy ]\n\u001b[1;32m---> 32\u001b[0m face \u001b[38;5;241m=\u001b[39m \u001b[43mcv2\u001b[49m\u001b[38;5;241;43m.\u001b[39;49m\u001b[43mcvtColor\u001b[49m\u001b[43m(\u001b[49m\u001b[43mface\u001b[49m\u001b[43m,\u001b[49m\u001b[43mcv2\u001b[49m\u001b[38;5;241;43m.\u001b[39;49m\u001b[43mCOLOR_BGR2RGB\u001b[49m\u001b[43m)\u001b[49m\n\u001b[0;32m     33\u001b[0m face \u001b[38;5;241m=\u001b[39m cv2\u001b[38;5;241m.\u001b[39mresize(face,(\u001b[38;5;241m244\u001b[39m,\u001b[38;5;241m244\u001b[39m))\n\u001b[0;32m     34\u001b[0m face \u001b[38;5;241m=\u001b[39m img_to_array(face)\n",
      "\u001b[1;31merror\u001b[0m: OpenCV(4.7.0) D:\\a\\opencv-python\\opencv-python\\opencv\\modules\\imgproc\\src\\color.cpp:182: error: (-215:Assertion failed) !_src.empty() in function 'cv::cvtColor'\n"
     ]
    }
   ],
   "source": [
    "# initialize the video stream\n",
    "\n",
    "print('[info] starting video stream...')\n",
    "vs = VideoStream(src=0).start()\n",
    "\n",
    "\n",
    "# loop over the frames of the video stream\n",
    "while True:\n",
    "    # grab frame from video stream and resize it to max width of 400 pixels\n",
    "    frame = vs.read()\n",
    "    frame = imutils.resize(frame , width = 400)\n",
    "\n",
    "    # detect face in frame and determine if they are wearing a mask or not\n",
    "    (locs,pred) = detect_and_predict_mask(frame,faceNet,maskNet)\n",
    "\n",
    "    # loop over the detected face locations\n",
    "\n",
    "    for (box,pred ) in zip(locs,pred):\n",
    "        # unpack bounding box and predictions\n",
    "        (startx,starty,endx,endy) = box\n",
    "        (mask,withoutmask) = pred\n",
    "\n",
    "        # determine the box label and color \n",
    "        label = 'mask' if mask>withoutmask else 'withoutmask'\n",
    "        color =(0,255,0) if mask> withoutmask else (0,0,255)\n",
    "\n",
    "        # include the probability in the label\n",
    "        label ='{} : {:.2f}%'.format(label,max(mask,withoutmask)* 100)\n",
    "\n",
    "\n",
    "        # display the label and the bounding box on the resultant frame\n",
    "        cv2.putText(frame,label,(startx,starty-10), cv2.FONT_HERSHEY_SIMPLEX,0.45,color,2)\n",
    "        cv2.rectangle(frame,(startx,starty),(endx,endy),color,2)\n",
    "\n",
    "    # show the output frqme\n",
    "    cv2.imshow('FRAME',frame)\n",
    "    key = cv2.waitKey(1) & 0xFF\n",
    "\n",
    "\n",
    "    # if the 's' key was pressed ,break from loop\n",
    "    if key == ord('s'):\n",
    "        break\n",
    "\n",
    "# cleanup\n",
    "cv2.destroyAllWindows()\n",
    "vs.stop()\n",
    "\n",
    "\n"
   ]
  },
  {
   "cell_type": "code",
   "execution_count": 25,
   "id": "7ec63928",
   "metadata": {},
   "outputs": [],
   "source": [
    "key = 's'"
   ]
  },
  {
   "cell_type": "code",
   "execution_count": null,
   "id": "a955ae0b",
   "metadata": {},
   "outputs": [],
   "source": []
  }
 ],
 "metadata": {
  "kernelspec": {
   "display_name": "Python 3 (ipykernel)",
   "language": "python",
   "name": "python3"
  },
  "language_info": {
   "codemirror_mode": {
    "name": "ipython",
    "version": 3
   },
   "file_extension": ".py",
   "mimetype": "text/x-python",
   "name": "python",
   "nbconvert_exporter": "python",
   "pygments_lexer": "ipython3",
   "version": "3.10.9"
  }
 },
 "nbformat": 4,
 "nbformat_minor": 5
}
